{
 "cells": [
  {
   "cell_type": "markdown",
   "metadata": {},
   "source": [
    "api from https://banks.data.fdic.gov/docs/#/Structure/searchInstitutions\n",
    "\n",
    "based on work from\n",
    "https://doi.org/10.1016/j.ribaf.2017.07.104 - Predicting bank failure: An improvement by implementing a machine-learning approach to classical financial ratios\n",
    "https://doi.org/10.1016/j.dss.2012.11.015 - Partial Least Square Discriminant Analysis for bankruptcy prediction\n",
    "https://doi.org/10.1016/j.eswa.2008.01.053 - Effects of feature construction on classification performance: An empirical study in bank failure prediction"
   ]
  },
  {
   "cell_type": "code",
   "execution_count": 1,
   "metadata": {},
   "outputs": [],
   "source": [
    "import requests\n",
    "import pandas as pd\n",
    "from io import StringIO\n",
    "from urllib.parse import quote_plus\n",
    "\n",
    "pd.set_option('display.max_rows', None)"
   ]
  },
  {
   "cell_type": "markdown",
   "metadata": {},
   "source": [
    "## Construct API call"
   ]
  },
  {
   "cell_type": "code",
   "execution_count": 98,
   "metadata": {},
   "outputs": [],
   "source": [
    "# strings for getting lists of active and failed banks\n",
    "institutionurl = 'https://banks.data.fdic.gov/api/institutions?'\n",
    "filtersfailed = 'ACTIVE:0 AND DATEUPDT:[\\\"2006-01-01\\\" TO \\\"2023-12-31\\\"]'\n",
    "filtersactive = 'ACTIVE:1 AND DATEUPDT:[\\\"2006-01-01\\\" TO \\\"2023-12-31\\\"]'\n",
    "bankfields = 'UNTY,STALP,NAME,ACTIVE,CERT,DATEUPDT'\n",
    "\n",
    "filtersfailed_string = 'filters=' + quote_plus(filtersfailed)\n",
    "filtersactive_string = 'filters=' + quote_plus(filtersactive)\n",
    "bankfields_string = '&fields=' + quote_plus(bankfields)\n",
    "bank_suffix = '&sort_by=NAME&sort_order=DESC&limit=10000&offset=0&format=csv&download=false&filename=data_file'\n",
    "\n"
   ]
  },
  {
   "cell_type": "code",
   "execution_count": 99,
   "metadata": {},
   "outputs": [],
   "source": [
    "# get failed banks\n",
    "failedbanksGET = requests.get(institutionurl +  filtersfailed_string +  bankfields_string + bank_suffix).text\n",
    "failedbanks = pd.read_csv(StringIO(failedbanksGET))\n",
    "\n",
    "# get active banks\n",
    "activebanksGET = requests.get(institutionurl +  filtersactive_string +  bankfields_string + bank_suffix).text\n",
    "activebanks = pd.read_csv(StringIO(activebanksGET))"
   ]
  },
  {
   "cell_type": "code",
   "execution_count": 100,
   "metadata": {},
   "outputs": [
    {
     "data": {
      "text/html": [
       "<div>\n",
       "<style scoped>\n",
       "    .dataframe tbody tr th:only-of-type {\n",
       "        vertical-align: middle;\n",
       "    }\n",
       "\n",
       "    .dataframe tbody tr th {\n",
       "        vertical-align: top;\n",
       "    }\n",
       "\n",
       "    .dataframe thead th {\n",
       "        text-align: right;\n",
       "    }\n",
       "</style>\n",
       "<table border=\"1\" class=\"dataframe\">\n",
       "  <thead>\n",
       "    <tr style=\"text-align: right;\">\n",
       "      <th></th>\n",
       "      <th>ACTIVE</th>\n",
       "      <th>CERT</th>\n",
       "      <th>ID</th>\n",
       "    </tr>\n",
       "  </thead>\n",
       "  <tbody>\n",
       "    <tr>\n",
       "      <th>count</th>\n",
       "      <td>4938.0</td>\n",
       "      <td>4938.000000</td>\n",
       "      <td>4938.000000</td>\n",
       "    </tr>\n",
       "    <tr>\n",
       "      <th>mean</th>\n",
       "      <td>0.0</td>\n",
       "      <td>26602.856622</td>\n",
       "      <td>26602.856622</td>\n",
       "    </tr>\n",
       "    <tr>\n",
       "      <th>std</th>\n",
       "      <td>0.0</td>\n",
       "      <td>17957.209622</td>\n",
       "      <td>17957.209622</td>\n",
       "    </tr>\n",
       "    <tr>\n",
       "      <th>min</th>\n",
       "      <td>0.0</td>\n",
       "      <td>9.000000</td>\n",
       "      <td>9.000000</td>\n",
       "    </tr>\n",
       "    <tr>\n",
       "      <th>25%</th>\n",
       "      <td>0.0</td>\n",
       "      <td>12391.250000</td>\n",
       "      <td>12391.250000</td>\n",
       "    </tr>\n",
       "    <tr>\n",
       "      <th>50%</th>\n",
       "      <td>0.0</td>\n",
       "      <td>24801.500000</td>\n",
       "      <td>24801.500000</td>\n",
       "    </tr>\n",
       "    <tr>\n",
       "      <th>75%</th>\n",
       "      <td>0.0</td>\n",
       "      <td>34662.500000</td>\n",
       "      <td>34662.500000</td>\n",
       "    </tr>\n",
       "    <tr>\n",
       "      <th>max</th>\n",
       "      <td>0.0</td>\n",
       "      <td>91363.000000</td>\n",
       "      <td>91363.000000</td>\n",
       "    </tr>\n",
       "  </tbody>\n",
       "</table>\n",
       "</div>"
      ],
      "text/plain": [
       "       ACTIVE          CERT            ID\n",
       "count  4938.0   4938.000000   4938.000000\n",
       "mean      0.0  26602.856622  26602.856622\n",
       "std       0.0  17957.209622  17957.209622\n",
       "min       0.0      9.000000      9.000000\n",
       "25%       0.0  12391.250000  12391.250000\n",
       "50%       0.0  24801.500000  24801.500000\n",
       "75%       0.0  34662.500000  34662.500000\n",
       "max       0.0  91363.000000  91363.000000"
      ]
     },
     "execution_count": 100,
     "metadata": {},
     "output_type": "execute_result"
    }
   ],
   "source": [
    "failedbanks.describe()"
   ]
  },
  {
   "cell_type": "code",
   "execution_count": 101,
   "metadata": {},
   "outputs": [
    {
     "data": {
      "text/html": [
       "<div>\n",
       "<style scoped>\n",
       "    .dataframe tbody tr th:only-of-type {\n",
       "        vertical-align: middle;\n",
       "    }\n",
       "\n",
       "    .dataframe tbody tr th {\n",
       "        vertical-align: top;\n",
       "    }\n",
       "\n",
       "    .dataframe thead th {\n",
       "        text-align: right;\n",
       "    }\n",
       "</style>\n",
       "<table border=\"1\" class=\"dataframe\">\n",
       "  <thead>\n",
       "    <tr style=\"text-align: right;\">\n",
       "      <th></th>\n",
       "      <th>ACTIVE</th>\n",
       "      <th>CERT</th>\n",
       "      <th>ID</th>\n",
       "    </tr>\n",
       "  </thead>\n",
       "  <tbody>\n",
       "    <tr>\n",
       "      <th>count</th>\n",
       "      <td>4620.0</td>\n",
       "      <td>4620.000000</td>\n",
       "      <td>4620.000000</td>\n",
       "    </tr>\n",
       "    <tr>\n",
       "      <th>mean</th>\n",
       "      <td>1.0</td>\n",
       "      <td>20548.378788</td>\n",
       "      <td>20548.378788</td>\n",
       "    </tr>\n",
       "    <tr>\n",
       "      <th>std</th>\n",
       "      <td>0.0</td>\n",
       "      <td>17167.994844</td>\n",
       "      <td>17167.994844</td>\n",
       "    </tr>\n",
       "    <tr>\n",
       "      <th>min</th>\n",
       "      <td>1.0</td>\n",
       "      <td>14.000000</td>\n",
       "      <td>14.000000</td>\n",
       "    </tr>\n",
       "    <tr>\n",
       "      <th>25%</th>\n",
       "      <td>1.0</td>\n",
       "      <td>8625.000000</td>\n",
       "      <td>8625.000000</td>\n",
       "    </tr>\n",
       "    <tr>\n",
       "      <th>50%</th>\n",
       "      <td>1.0</td>\n",
       "      <td>15935.500000</td>\n",
       "      <td>15935.500000</td>\n",
       "    </tr>\n",
       "    <tr>\n",
       "      <th>75%</th>\n",
       "      <td>1.0</td>\n",
       "      <td>28865.750000</td>\n",
       "      <td>28865.750000</td>\n",
       "    </tr>\n",
       "    <tr>\n",
       "      <th>max</th>\n",
       "      <td>1.0</td>\n",
       "      <td>91325.000000</td>\n",
       "      <td>91325.000000</td>\n",
       "    </tr>\n",
       "  </tbody>\n",
       "</table>\n",
       "</div>"
      ],
      "text/plain": [
       "       ACTIVE          CERT            ID\n",
       "count  4620.0   4620.000000   4620.000000\n",
       "mean      1.0  20548.378788  20548.378788\n",
       "std       0.0  17167.994844  17167.994844\n",
       "min       1.0     14.000000     14.000000\n",
       "25%       1.0   8625.000000   8625.000000\n",
       "50%       1.0  15935.500000  15935.500000\n",
       "75%       1.0  28865.750000  28865.750000\n",
       "max       1.0  91325.000000  91325.000000"
      ]
     },
     "execution_count": 101,
     "metadata": {},
     "output_type": "execute_result"
    }
   ],
   "source": [
    "activebanks.describe()"
   ]
  },
  {
   "cell_type": "code",
   "execution_count": 78,
   "metadata": {},
   "outputs": [],
   "source": [
    "url = 'https://banks.data.fdic.gov/api/financials?'\n",
    "filters = ['ACTIVE:1', 'REPYEAR:[2000 TO 2023]']\n",
    "features = ['NAME', 'RISDATE', 'CERT',\n",
    "            'LNATRESR', 'ELNLOS', 'NIM', 'EAMINTAN', 'LNLSGRS', 'NTLNLS', 'EQ', 'AVASSETJ'\n",
    "            'RBCT1CER', 'EQTOTR', 'EQV', 'LNLSNET', 'CUSLI', 'LIAB', 'LIABEQR', 'LIABEQ', 'DEP',\n",
    "            'NIMY', 'NIMR', 'IOTHFEE', 'NONIXR', 'PTAXNETINCR', 'ITAX',\n",
    "            'ROA', 'ROE', 'NETINC', 'EEFFR', 'CHBAL' ]\n",
    "featurenames = {'LNATRESR': 'LOAN LOSS RESERVE/GROSS LN&LS',\n",
    "                'ELNLOS' : 'PROVISIONS FOR LN & LEASE LOSSES',\n",
    "                'NIM' : 'NET INTEREST INCOME',\n",
    "                'EAMINTAN' : 'AMORT & IMPAIR LOSS AST',\n",
    "                'LNLSGRS' : 'LOANS AND LEASES, GROSS',\n",
    "                'NTLNLS' : 'TOTAL LN&LS NET CHARGE-OFFS',\n",
    "                'EQ' : 'Equity Capital',\n",
    "                'AVASSETJ' : 'AVERAGE ASSETS-ADJUSTED-PCA',\n",
    "                'RBCT1CER' : 'COMMON EQUITY TIER 1 RATIO',\n",
    "                'EQTOTR' : 'TOTAL EQUITY CAPITAL RATIO',\n",
    "                'EQV' : 'BANK EQUITY CAPITAL/ASSETS',\n",
    "                'LNLSNET' : 'LOANS AND LEASES-NET',\n",
    "                'CUSLI' : 'CUSTOMERS ACCEPTANCES',\n",
    "                'LIAB' : 'TOTAL LIABILITIES',\n",
    "                'LIABEQR' : 'TOTAL LIABILITIES & CAPITAL RATIO',\n",
    "                'LIABEQ' : 'TOTAL LIABILITIES & CAPITAL',\n",
    "                'DEP' : 'Total deposits',\n",
    "                'NIMY' : 'NET INTEREST MARGIN',\n",
    "                'NIMR' : 'NET INTEREST INCOME RATIO',\n",
    "                'IOTHFEE' : 'OTHER FEE INCOME',\n",
    "                'NONIXR' : 'TOTAL NONINTEREST EXPENSE RATIO',\n",
    "                'PTAXNETINCR' : 'PRE-TAX NET INCOME OPERATING INCOME RATIO',\n",
    "                'ITAX' : 'APPLICABLE INCOME TAXES',\n",
    "                'ROA' : 'Return on assets (ROA)',\n",
    "                'ROE' : 'Return on equity (ROE)',\n",
    "                'NETINC' : 'Net income',\n",
    "                'EEFFR' : 'EFFICIENCY RATIO',\n",
    "                'CHBAL' : 'CASH & DUE FROM DEPOSITORY INST'\n",
    "\n",
    "                }\n",
    "\n"
   ]
  },
  {
   "cell_type": "code",
   "execution_count": 79,
   "metadata": {},
   "outputs": [],
   "source": [
    "# convert to a URL friendly format for the API call\n",
    "filterstring = quote_plus(','.join(filters))\n",
    "featurestring = quote_plus(','.join(features))"
   ]
  },
  {
   "cell_type": "code",
   "execution_count": 80,
   "metadata": {},
   "outputs": [],
   "source": [
    "response = requests.get(url + 'filters=' + filterstring + '&fields=' + featurestring + '&limit=3000&offset=0&format=csv&download=false&filename=data_file').text\n",
    "df = pd.read_csv(StringIO(response))"
   ]
  },
  {
   "cell_type": "code",
   "execution_count": 82,
   "metadata": {},
   "outputs": [
    {
     "data": {
      "text/html": [
       "<div>\n",
       "<style scoped>\n",
       "    .dataframe tbody tr th:only-of-type {\n",
       "        vertical-align: middle;\n",
       "    }\n",
       "\n",
       "    .dataframe tbody tr th {\n",
       "        vertical-align: top;\n",
       "    }\n",
       "\n",
       "    .dataframe thead th {\n",
       "        text-align: right;\n",
       "    }\n",
       "</style>\n",
       "<table border=\"1\" class=\"dataframe\">\n",
       "  <thead>\n",
       "    <tr style=\"text-align: right;\">\n",
       "      <th></th>\n",
       "      <th>{\"errors\":[{\"status\":400</th>\n",
       "      <th>links:{\"about\":{\"href\":\"https://banks.data.fdic.gov/docs\"</th>\n",
       "      <th>meta:{\"section\":\"Filter Syntax\"}}}</th>\n",
       "      <th>title:\"Invalid request input</th>\n",
       "      <th>please double check your search query syntax\"</th>\n",
       "      <th>detail:\"search_phase_execution_exception: [query_shard_exception] Reason: failed to create query: {\\n  \\\"function_score\\\" : {\\n    \\\"query\\\" : {\\n      \\\"bool\\\" : {\\n        \\\"must\\\" : [\\n          {\\n            \\\"bool\\\" : {\\n              \\\"filter\\\" : [\\n                {\\n                  \\\"query_string\\\" : {\\n                    \\\"query\\\" : \\\"ACTIVE:1</th>\n",
       "      <th>REPYEAR:[2000 TO 2023]\\\"</th>\n",
       "      <th>\\n                    \\\"default_field\\\" : \\\"NAME\\\"</th>\n",
       "      <th>\\n                    \\\"fields\\\" : [ ]</th>\n",
       "      <th>\\n                    \\\"type\\\" : \\\"best_fields\\\"</th>\n",
       "      <th>...</th>\n",
       "      <th>\\n              \\\"adjust_pure_negative\\\" : true</th>\n",
       "      <th>\\n              \\\"boost\\\" : 1.0\\n            }\\n          }\\n        ]</th>\n",
       "      <th>\\n        \\\"adjust_pure_negative\\\" : true</th>\n",
       "      <th>\\n        \\\"boost\\\" : 1.0\\n      }\\n    }</th>\n",
       "      <th>\\n    \\\"functions\\\" : [ ]</th>\n",
       "      <th>\\n    \\\"score_mode\\\" : \\\"multiply\\\"</th>\n",
       "      <th>\\n    \\\"max_boost\\\" : 3.4028235E38</th>\n",
       "      <th>\\n    \\\"boost\\\" : 1.0\\n  }\\n}\"</th>\n",
       "      <th>source:{\"parameter\":\"filters\"}</th>\n",
       "      <th>meta:{\"timestamp\":\"2023-11-17T03:29:16.936Z\"}}]}</th>\n",
       "    </tr>\n",
       "  </thead>\n",
       "  <tbody>\n",
       "  </tbody>\n",
       "</table>\n",
       "<p>0 rows × 31 columns</p>\n",
       "</div>"
      ],
      "text/plain": [
       "Empty DataFrame\n",
       "Columns: [{\"errors\":[{\"status\":400, links:{\"about\":{\"href\":\"https://banks.data.fdic.gov/docs\", meta:{\"section\":\"Filter Syntax\"}}}, title:\"Invalid request input,  please double check your search query syntax\", detail:\"search_phase_execution_exception: [query_shard_exception] Reason: failed to create query: {\\n  \\\"function_score\\\" : {\\n    \\\"query\\\" : {\\n      \\\"bool\\\" : {\\n        \\\"must\\\" : [\\n          {\\n            \\\"bool\\\" : {\\n              \\\"filter\\\" : [\\n                {\\n                  \\\"query_string\\\" : {\\n                    \\\"query\\\" : \\\"ACTIVE:1, REPYEAR:[2000 TO 2023]\\\", \\n                    \\\"default_field\\\" : \\\"NAME\\\", \\n                    \\\"fields\\\" : [ ], \\n                    \\\"type\\\" : \\\"best_fields\\\", \\n                    \\\"default_operator\\\" : \\\"or\\\", \\n                    \\\"max_determinized_states\\\" : 10000, \\n                    \\\"enable_position_increments\\\" : true, \\n                    \\\"fuzziness\\\" : \\\"AUTO\\\", \\n                    \\\"fuzzy_prefix_length\\\" : 0, \\n                    \\\"fuzzy_max_expansions\\\" : 50, \\n                    \\\"phrase_slop\\\" : 0, \\n                    \\\"escape\\\" : false, \\n                    \\\"auto_generate_synonyms_phrase_query\\\" : true, \\n                    \\\"fuzzy_transpositions\\\" : true, \\n                    \\\"boost\\\" : 1.0\\n                  }\\n                }\\n              ], \\n              \\\"adjust_pure_negative\\\" : true, \\n              \\\"boost\\\" : 1.0\\n            }\\n          }\\n        ], \\n        \\\"adjust_pure_negative\\\" : true, \\n        \\\"boost\\\" : 1.0\\n      }\\n    }, \\n    \\\"functions\\\" : [ ], \\n    \\\"score_mode\\\" : \\\"multiply\\\", \\n    \\\"max_boost\\\" : 3.4028235E38, \\n    \\\"boost\\\" : 1.0\\n  }\\n}\", source:{\"parameter\":\"filters\"}, meta:{\"timestamp\":\"2023-11-17T03:29:16.936Z\"}}]}]\n",
       "Index: []\n",
       "\n",
       "[0 rows x 31 columns]"
      ]
     },
     "execution_count": 82,
     "metadata": {},
     "output_type": "execute_result"
    }
   ],
   "source": [
    "df"
   ]
  },
  {
   "cell_type": "code",
   "execution_count": 81,
   "metadata": {},
   "outputs": [
    {
     "ename": "KeyError",
     "evalue": "\"None of [Index(['CERT', 'NAME', 'RISDATE'], dtype='object')] are in the [columns]\"",
     "output_type": "error",
     "traceback": [
      "\u001b[0;31m---------------------------------------------------------------------------\u001b[0m",
      "\u001b[0;31mKeyError\u001b[0m                                  Traceback (most recent call last)",
      "\u001b[1;32m/home/joeyio/codeprojects/banks/bank-sentinel/extract.ipynb Cell 7\u001b[0m line \u001b[0;36m1\n\u001b[0;32m----> <a href='vscode-notebook-cell://wsl%2Bubuntu/home/joeyio/codeprojects/banks/bank-sentinel/extract.ipynb#X12sdnNjb2RlLXJlbW90ZQ%3D%3D?line=0'>1</a>\u001b[0m df[[\u001b[39m'\u001b[39;49m\u001b[39mCERT\u001b[39;49m\u001b[39m'\u001b[39;49m, \u001b[39m'\u001b[39;49m\u001b[39mNAME\u001b[39;49m\u001b[39m'\u001b[39;49m, \u001b[39m\"\u001b[39;49m\u001b[39mRISDATE\u001b[39;49m\u001b[39m\"\u001b[39;49m]]\n",
      "File \u001b[0;32m~/anaconda3/envs/tf_fresh/lib/python3.9/site-packages/pandas/core/frame.py:3811\u001b[0m, in \u001b[0;36mDataFrame.__getitem__\u001b[0;34m(self, key)\u001b[0m\n\u001b[1;32m   3809\u001b[0m     \u001b[39mif\u001b[39;00m is_iterator(key):\n\u001b[1;32m   3810\u001b[0m         key \u001b[39m=\u001b[39m \u001b[39mlist\u001b[39m(key)\n\u001b[0;32m-> 3811\u001b[0m     indexer \u001b[39m=\u001b[39m \u001b[39mself\u001b[39;49m\u001b[39m.\u001b[39;49mcolumns\u001b[39m.\u001b[39;49m_get_indexer_strict(key, \u001b[39m\"\u001b[39;49m\u001b[39mcolumns\u001b[39;49m\u001b[39m\"\u001b[39;49m)[\u001b[39m1\u001b[39m]\n\u001b[1;32m   3813\u001b[0m \u001b[39m# take() does not accept boolean indexers\u001b[39;00m\n\u001b[1;32m   3814\u001b[0m \u001b[39mif\u001b[39;00m \u001b[39mgetattr\u001b[39m(indexer, \u001b[39m\"\u001b[39m\u001b[39mdtype\u001b[39m\u001b[39m\"\u001b[39m, \u001b[39mNone\u001b[39;00m) \u001b[39m==\u001b[39m \u001b[39mbool\u001b[39m:\n",
      "File \u001b[0;32m~/anaconda3/envs/tf_fresh/lib/python3.9/site-packages/pandas/core/indexes/base.py:6113\u001b[0m, in \u001b[0;36mIndex._get_indexer_strict\u001b[0;34m(self, key, axis_name)\u001b[0m\n\u001b[1;32m   6110\u001b[0m \u001b[39melse\u001b[39;00m:\n\u001b[1;32m   6111\u001b[0m     keyarr, indexer, new_indexer \u001b[39m=\u001b[39m \u001b[39mself\u001b[39m\u001b[39m.\u001b[39m_reindex_non_unique(keyarr)\n\u001b[0;32m-> 6113\u001b[0m \u001b[39mself\u001b[39;49m\u001b[39m.\u001b[39;49m_raise_if_missing(keyarr, indexer, axis_name)\n\u001b[1;32m   6115\u001b[0m keyarr \u001b[39m=\u001b[39m \u001b[39mself\u001b[39m\u001b[39m.\u001b[39mtake(indexer)\n\u001b[1;32m   6116\u001b[0m \u001b[39mif\u001b[39;00m \u001b[39misinstance\u001b[39m(key, Index):\n\u001b[1;32m   6117\u001b[0m     \u001b[39m# GH 42790 - Preserve name from an Index\u001b[39;00m\n",
      "File \u001b[0;32m~/anaconda3/envs/tf_fresh/lib/python3.9/site-packages/pandas/core/indexes/base.py:6173\u001b[0m, in \u001b[0;36mIndex._raise_if_missing\u001b[0;34m(self, key, indexer, axis_name)\u001b[0m\n\u001b[1;32m   6171\u001b[0m     \u001b[39mif\u001b[39;00m use_interval_msg:\n\u001b[1;32m   6172\u001b[0m         key \u001b[39m=\u001b[39m \u001b[39mlist\u001b[39m(key)\n\u001b[0;32m-> 6173\u001b[0m     \u001b[39mraise\u001b[39;00m \u001b[39mKeyError\u001b[39;00m(\u001b[39mf\u001b[39m\u001b[39m\"\u001b[39m\u001b[39mNone of [\u001b[39m\u001b[39m{\u001b[39;00mkey\u001b[39m}\u001b[39;00m\u001b[39m] are in the [\u001b[39m\u001b[39m{\u001b[39;00maxis_name\u001b[39m}\u001b[39;00m\u001b[39m]\u001b[39m\u001b[39m\"\u001b[39m)\n\u001b[1;32m   6175\u001b[0m not_found \u001b[39m=\u001b[39m \u001b[39mlist\u001b[39m(ensure_index(key)[missing_mask\u001b[39m.\u001b[39mnonzero()[\u001b[39m0\u001b[39m]]\u001b[39m.\u001b[39munique())\n\u001b[1;32m   6176\u001b[0m \u001b[39mraise\u001b[39;00m \u001b[39mKeyError\u001b[39;00m(\u001b[39mf\u001b[39m\u001b[39m\"\u001b[39m\u001b[39m{\u001b[39;00mnot_found\u001b[39m}\u001b[39;00m\u001b[39m not in index\u001b[39m\u001b[39m\"\u001b[39m)\n",
      "\u001b[0;31mKeyError\u001b[0m: \"None of [Index(['CERT', 'NAME', 'RISDATE'], dtype='object')] are in the [columns]\""
     ]
    }
   ],
   "source": [
    "df[['CERT', 'NAME', \"RISDATE\"]]"
   ]
  },
  {
   "cell_type": "code",
   "execution_count": 51,
   "metadata": {},
   "outputs": [
    {
     "name": "stdout",
     "output_type": "stream",
     "text": [
      "CHBAL             0\n",
      "CUSLI          3000\n",
      "DEP               0\n",
      "EAMINTAN          0\n",
      "EEFFR             0\n",
      "ELNLOS            0\n",
      "EQ                0\n",
      "EQTOTR            0\n",
      "EQV               0\n",
      "ID                0\n",
      "IOTHFEE        3000\n",
      "ITAX              0\n",
      "LIAB              0\n",
      "LIABEQ            0\n",
      "LIABEQR           0\n",
      "LNATRESR          0\n",
      "LNLSGRS           0\n",
      "LNLSNET           0\n",
      "NAME              0\n",
      "NETINC            0\n",
      "NIM               0\n",
      "NIMR              0\n",
      "NIMY              0\n",
      "NONIXR            0\n",
      "NTLNLS            0\n",
      "PTAXNETINCR       0\n",
      "RISDATE           0\n",
      "ROA               0\n",
      "ROE               0\n",
      "dtype: int64\n"
     ]
    }
   ],
   "source": [
    "print(df.isna().sum())"
   ]
  }
 ],
 "metadata": {
  "kernelspec": {
   "display_name": "tf_fresh",
   "language": "python",
   "name": "python3"
  },
  "language_info": {
   "codemirror_mode": {
    "name": "ipython",
    "version": 3
   },
   "file_extension": ".py",
   "mimetype": "text/x-python",
   "name": "python",
   "nbconvert_exporter": "python",
   "pygments_lexer": "ipython3",
   "version": "3.9.16"
  }
 },
 "nbformat": 4,
 "nbformat_minor": 2
}
