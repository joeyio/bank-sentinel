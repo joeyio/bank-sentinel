{
 "cells": [
  {
   "cell_type": "code",
   "execution_count": 4,
   "metadata": {},
   "outputs": [],
   "source": [
    "import pandas as pd\n",
    "import numpy as np\n",
    "#import sklearn\n",
    "from sklearn.base import BaseEstimator, TransformerMixin\n"
   ]
  },
  {
   "cell_type": "code",
   "execution_count": 3,
   "metadata": {},
   "outputs": [],
   "source": [
    "alldata = pd.read_csv('alldata.csv')"
   ]
  },
  {
   "cell_type": "code",
   "execution_count": null,
   "metadata": {},
   "outputs": [],
   "source": [
    "class CustomFeatures(BaseEstimator, TransformerMixin):\n",
    "    def __init__(self):\n",
    "        pass\n",
    "    \n",
    "    def fit(self, X, y=None):\n",
    "        return self # nothing to fit\n",
    "    \n",
    "    def transform(self, X, y=None):\n",
    "        # Z2, Loan loss provision / net interest revenue\n",
    "        LLPNIR = X.ELNLOS / X.NIM\n",
    "\n",
    "        # Z3, Impaired loans / gross loans\n",
    "        ILGL = X.EAMINTAN / X.LNLSGRS\n",
    "\n",
    "        # Z4, Net charge off / Gross loans\n",
    "        NCOGL = X.NTLNLS / X.LNLSGRS\n",
    "\n",
    "        # Z5, Impaired loans / equity\n",
    "        ILEQ = X.EAMINTAN / X.EQ\n",
    "\n",
    "        # Z7, \n",
    "\n",
    "        # return pd.concat([X.LNATRESR, LLPNIR, ILGL, NCOGL, ILEQ, X.IDT1RWAJR, ])\n",
    "\n"
   ]
  }
 ],
 "metadata": {
  "kernelspec": {
   "display_name": "tf_fresh",
   "language": "python",
   "name": "python3"
  },
  "language_info": {
   "codemirror_mode": {
    "name": "ipython",
    "version": 3
   },
   "file_extension": ".py",
   "mimetype": "text/x-python",
   "name": "python",
   "nbconvert_exporter": "python",
   "pygments_lexer": "ipython3",
   "version": "3.9.16"
  }
 },
 "nbformat": 4,
 "nbformat_minor": 2
}
